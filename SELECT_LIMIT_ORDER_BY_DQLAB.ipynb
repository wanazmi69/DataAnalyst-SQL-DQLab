<a id="A"></a>
# <b>A. <span style='color:#0B2F9F'><code>SELECT</code></span></b>

Perintah `SELECT` bertujuan untuk mengambil dan menampilkan data dari tabel di database. Ini penting untuk analisis karena saat menganalisa data perlu mengakses data yang relevan untuk dianalisis seperti mengidentifikasi pola, tren, dan informasi penting lainnya.
<a id="A.1."></a>
## <b>A.1. <span style='color:#0B2F9F'>Menampilkan Semua Data pada Satu Tabel</span></b>

Untuk dapat menampilkan semua isi (data) pada sebuah tabel, eksekusi perintah

<img src="https://raw.githubusercontent.com/bachtiyarma/Material/main/Image/Materi-SQL/SQL-Select1.png" width="50%">

Dalam perintah `SELECT`, tanda bintang (*) digunakan untuk memilih semua kolom dari tabel yang disebutkan. Cara ini merupakan cara cepat untuk mengambil seluruh data tanpa perlu menyebutkan nama-nama kolom satu per satu.

<i>docs : <a href="https://dev.mysql.com/doc/refman/8.4/en/selecting-all.html">https://dev.mysql.com/doc/refman/8.4/en/selecting-all.html</a></i>
#### <i><b><span style='color:#55679C'>Quest</span> : Tampilkan semua data pada tabel customer_status!</b></i>
SELECT * FROM `telco_churn.customer_status`
<a id="A.2."></a>
## <b>A.2. <span style='color:#0B2F9F'>Menampilkan Kolom Tertentu pada Satu Tabel</span></b>

Untuk dapat menampilkan isi data pada kolom tertentu pada sebuah tabel, eksekusi perintah

<img src="https://raw.githubusercontent.com/bachtiyarma/Material/main/Image/Materi-SQL/SQL-Select2.png" width="50%">

Gunakan tanda koma untuk mendaftarkan nama kolom yang ingin ditampilkan. Kolom yang disebutkan pertama kali akan ditampilkan paling kiri begitu juga dengan kolom kedua hingga kolom terakhir.

<i>docs : <a href="https://dev.mysql.com/doc/refman/8.4/en/selecting-columns.html">https://dev.mysql.com/doc/refman/8.4/en/selecting-columns.html</a></i>
#### <i><b><span style='color:#55679C'>Quest</span> : Tampilkan kolom customer_id, status dan churn_reason pada tabel customer_status!</b></i>
SELECT customer_id, status,churn_reason FROM `telco_churn.customer_status`
<a id="A.3."></a>
## <b>A.3. <span style='color:#0B2F9F'>Mengubah Penyebutan Nama Kolom pada Satu Tabel</span></b>

Terkadang perlu untuk memberi nama lain pada saat data ditampilkan untuk mempermudah pembacaan atau tujuan lainnya. Untuk mengubah nama sementara yang diberikan kepada kolom atau tabel dalam query bisa menggunakan perintah `AS` atau biasa disebut Alias. Untuk dapat mengubah nama kolom sementara pada sebuah tabel, eksekusi perintah

<img src="https://raw.githubusercontent.com/bachtiyarma/Material/main/Image/Materi-SQL/SQL-Select3.png" width="50%">
#### <i><b><span style='color:#55679C'>Quest</span> : Tampilkan kolom customer_id, cltv dan status pada tabel customer_status, namun ubah sementara nama kolom cltv menjadi customer_lifetime_value agar lebih mudah diinterpretasikan!</b></i>
SELECT customer_id, cltv AS customer_lifetime_value, status  FROM `telco_churn.customer_status`
<a id="B"></a>
# <b>B. <span style='color:#E1B12D'><code>DISTINCT</code></span></b>

Perintah `DISTINCT` dalam SQL digunakan untuk menghapus duplikasi dalam hasil query. Dengan `DISTINCT`, dapat dipastikan bahwa setiap baris dalam hasil query unik dan tidak ada baris yang sama. Untuk menggunakan perintah ini haruslah diletakkan setelah perintah `SELECT`.

<img src="https://raw.githubusercontent.com/bachtiyarma/Material/main/Image/Materi-SQL/SQL-Distinct.png" width="50%">

docs : <a href="https://dev.mysql.com/doc/refman/8.4/en/distinct-optimization.html"><i>https://dev.mysql.com/doc/refman/8.4/en/distinct-optimization.html</a></i>
<a id="B.1."></a>
## <b>B.1. <span style='color:#0B2F9F'>Nilai Unik pada Satu Kolom Tertentu</span></b>
#### <i><b><span style='color:#55679C'>Quest</span> : Tampilkan apa saja jenis status pada tabel customer_status!</b></i>
SELECT DISTINCT status  FROM `telco_churn.customer_status`
<a id="B.2."></a>
## <b>B.2. <span style='color:#0B2F9F'>Nilai Unik pada Lebih dari Satu Kolom</span></b>

Perintah `DISTINCT` dapat diterapkan dilebih dari satu kolom. Jika diterapkan pada lebih dari satu kolom maka akan menghasilkan kombinasi unik antar baris pada kolom yang terpilih
#### <i><b><span style='color:#55679C'>Quest</span> : Tampilkan apa saja jenis churn_category dan churn_reason pada tabel customer_status!</b></i>
SELECT DISTINCT churn_category, churn_reason FROM `telco_churn.customer_status`
<a id="C"></a>
# <b>C. <span style='color:#E1B12D'><code>LIMIT</code></span></b>

Tidak semua data ingin ditampilkan untuk proses <i>sampling</i>, sehingga perlu dikontrol dan melakukan pembatasan jumlah baris yang dikembalikan oleh sebuah query.
Perintah `LIMIT <jumlah_data>` dalam SQL digunakan untuk membatasi data yang ingin ditampilkan. `LIMIT` diletakkan paling akhir dari sebuah query dengan perintah `SELECT`.

<img src="https://raw.githubusercontent.com/bachtiyarma/Material/main/Image/Materi-SQL/SQL-Limit.png" width="50%">

docs : <a href="https://dev.mysql.com/doc/refman/8.4/en/limit-optimization.html"><i>https://dev.mysql.com/doc/refman/8.4/en/limit-optimization.html</a></i>
<a id="C.1."></a>
## <b>C.1. <span style='color:#0B2F9F'>Membatasi Jumlah Baris (yang ditampilkan) di Semua Kolom pada Data</span></b>
#### <i><b><span style='color:#55679C'>Quest</span> : Tampilkan semua 5 data teratas pada tabel customer_status!</b></i>
SELECT * FROM `telco_churn.customer_status` LIMIT 5
<a id="C.2."></a>
## <b>C.2. <span style='color:#0B2F9F'>Membatasi Jumlah Baris (yang ditampilkan) di Kolom Tertentu pada Data</span></b>
#### <i><b><span style='color:#55679C'>Quest</span> : Tampilkan 10 data teratas untuk kolom customer_id, status dan churn_reason pada tabel customer_status!</b></i>
SELECT customer_id, status, churn_reason FROM `telco_churn.customer_status` LIMIT 10
#### <i><b><span style='color:#55679C'>Quest</span> : Tampilkan 3 data teratas untuk kolom customer_id, cltv dan status pada tabel customer_status, namun ubah sementara nama kolom cltv menjadi customer_lifetime_value agar lebih mudah diinterpretasikan!</b></i>
SELECT customer_id, cltv AS customer_lifetime_value, status FROM `telco_churn.customer_status` LIMIT 3
<a id="D"></a>
# <b>D. <span style='color:#E1B12D'><code>ORDER BY</code></span></b>

Perintah lain yang tak kalah penting yang membantu dalam menganalisis data untuk melihat data dalam urutan yang diinginkan adalah perintah `ORDER BY`. Perintah `ORDER BY` dalam SQL digunakan untuk mengurutkan hasil query berdasarkan satu atau lebih kolom. Cara pengurutan data dibagi menjadi dua cara yakni <b>Ascending</b> dan <b>Descending</b>
<ul>
    <li><b>Ascending</b> : Pengurutan secara naik (dari kecil ke besar) atau A-Z</li>
    <li><b>Descending</b> : Pengurutan secara turun (dari besar ke kecil) atau Z-A</li>
</ul>

Untuk dapat menampilkan isi data secara terurut pada kolom tertentu pada sebuah tabel, eksekusi perintah


<i>docs : <a href="https://dev.mysql.com/doc/refman/8.4/en/sorting-rows.html">https://dev.mysql.com/doc/refman/8.4/en/sorting-rows.html</a></i>
<a id="D.1."></a>
## <b>D.1. <span style='color:#0B2F9F'>Mengurutkan secara <i>Ascending</i></span></b>

<img src="https://raw.githubusercontent.com/bachtiyarma/Material/main/Image/Materi-SQL/SQL-OrderByASC.png" width="50%">
#### <i><b><span style='color:#55679C'>Quest</span> : Tampilkan semua data pada tabel customer_status namun urutkan berdasarkan kolom customer_id secara ascending!</b></i>
SELECT * FROM `telco_churn.customer_status` ORDER BY customer_id ASC
<a id="D.2."></a>
## <b>D.2. <span style='color:#0B2F9F'>Mengurutkan secara <i>Descending</i></span></b>

<img src="https://raw.githubusercontent.com/bachtiyarma/Material/main/Image/Materi-SQL/SQL-OrderByDESC.png" width="50%">
#### <i><b><span style='color:#55679C'>Quest</span> : Tampilkan semua data pada tabel customer_status namun urutkan berdasarkan kolom cltv secara descending!</b></i>
SELECT * FROM `telco_churn.customer_status` ORDER BY cltv DESC
<a id="D.3."></a>
## <b>D.3. <span style='color:#0B2F9F'>Kombinasi <i>Ascending</i> & <i>Descending</i> saat Mengurutkan Data</span></b>
#### <i><b><span style='color:#55679C'>Quest</span> : Tampilkan 10 data pada tabel customer_status namun urutkan berdasarkan customer_id dari yang terkecil hingga yang terbesar dan urutkan pula cltv dari yang terbesar hingga yang terkecil!</b></i>
SELECT * FROM `telco_churn.customer_status`
ORDER BY customer_id ASC, cltv DESC
LIMIT 10
#### <i><b><span style='color:#55679C'>Quest</span> : Siapa saja customer yang berada di top 10 nilai cltv terbesar? Tampilkan kolom customer_id, cltv dan status pada tabel customer_status, namun ubah sementara nama kolom cltv menjadi customer_lifetime_value agar lebih mudah diinterpretasikan</b></i>
SELECT
  customer_id,
  cltv AS customer_lifetime_value,
  status
FROM `telco_churn.customer_status`
ORDER BY cltv DESC
LIMIT 10

Data Source : <i>https://www.ibm.com/docs/en/cognos-analytics/11.1.0?topic=samples-telco-customer-churn</i>

---

<br>
<a href="https://www.linkedin.com/in/wanazmi69/"><img src="https://img.shields.io/badge/-© 2024 Wan Azmi-417DAC?style=for-the-badge&logoColor=white"/></a>
